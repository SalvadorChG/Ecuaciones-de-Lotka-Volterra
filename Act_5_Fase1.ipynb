{
  "cells": [
    {
      "cell_type": "code",
      "execution_count": 26,
      "metadata": {
        "id": "ai9amAkWThmO"
      },
      "outputs": [],
      "source": [
        "import numpy as np\n",
        "from scipy.integrate import solve_ivp\n",
        "import matplotlib.pyplot as plt"
      ]
    },
    {
      "cell_type": "code",
      "execution_count": 70,
      "metadata": {
        "id": "kNOX5XfiTkRF"
      },
      "outputs": [],
      "source": [
        "def EDO(t,v,a1,a2,b1,b2):\n",
        "    x,y=v[0],v[1]\n",
        "    ed1=x*(a1-a2*y)\n",
        "    ed2=-y*(b1-b2*x)\n",
        "    return[ed1,ed2]"
      ]
    },
    {
      "cell_type": "code",
      "execution_count": 101,
      "metadata": {
        "id": "XIW3VKfcT3F8"
      },
      "outputs": [],
      "source": [
        "a=1.4\n",
        "b=2.3\n",
        "c=1\n",
        "d=1.8\n",
        "t0=0\n",
        "tf=30\n",
        "t_span=np.array([t0,tf])\n",
        "v1=np.array([3,5]) "
      ]
    },
    {
      "cell_type": "code",
      "execution_count": 102,
      "metadata": {
        "id": "FA_JJzzpT5J_"
      },
      "outputs": [],
      "source": [
        "t=np.linspace(t0,tf,101)"
      ]
    },
    {
      "cell_type": "code",
      "execution_count": 103,
      "metadata": {
        "colab": {
          "base_uri": "https://localhost:8080/"
        },
        "id": "uRDi_rObmkEN",
        "outputId": "7d4fd557-e299-440a-d49d-148462de475d"
      },
      "outputs": [
        {
          "output_type": "stream",
          "name": "stdout",
          "text": [
            "  message: 'The solver successfully reached the end of the integration interval.'\n",
            "     nfev: 554\n",
            "     njev: 0\n",
            "      nlu: 0\n",
            "      sol: None\n",
            "   status: 0\n",
            "  success: True\n",
            "        t: array([ 0. ,  0.3,  0.6,  0.9,  1.2,  1.5,  1.8,  2.1,  2.4,  2.7,  3. ,\n",
            "        3.3,  3.6,  3.9,  4.2,  4.5,  4.8,  5.1,  5.4,  5.7,  6. ,  6.3,\n",
            "        6.6,  6.9,  7.2,  7.5,  7.8,  8.1,  8.4,  8.7,  9. ,  9.3,  9.6,\n",
            "        9.9, 10.2, 10.5, 10.8, 11.1, 11.4, 11.7, 12. , 12.3, 12.6, 12.9,\n",
            "       13.2, 13.5, 13.8, 14.1, 14.4, 14.7, 15. , 15.3, 15.6, 15.9, 16.2,\n",
            "       16.5, 16.8, 17.1, 17.4, 17.7, 18. , 18.3, 18.6, 18.9, 19.2, 19.5,\n",
            "       19.8, 20.1, 20.4, 20.7, 21. , 21.3, 21.6, 21.9, 22.2, 22.5, 22.8,\n",
            "       23.1, 23.4, 23.7, 24. , 24.3, 24.6, 24.9, 25.2, 25.5, 25.8, 26.1,\n",
            "       26.4, 26.7, 27. , 27.3, 27.6, 27.9, 28.2, 28.5, 28.8, 29.1, 29.4,\n",
            "       29.7, 30. ])\n",
            " t_events: None\n",
            "        y: array([[3.00000000e+00, 7.16547047e-02, 3.44084349e-03, 4.00613075e-04,\n",
            "        9.07396030e-05, 3.36691974e-05, 1.81389746e-05, 1.13157864e-05,\n",
            "        1.19788897e-05, 1.62052123e-05, 1.80292797e-05, 2.17699588e-05,\n",
            "        2.80007047e-05, 3.74987616e-05, 5.18778905e-05, 7.35998568e-05,\n",
            "        1.06357447e-04, 1.55652881e-04, 2.30176462e-04, 3.43064756e-04,\n",
            "        5.13744435e-04, 7.72746805e-04, 1.16636050e-03, 1.76317039e-03,\n",
            "        2.67030022e-03, 4.05129378e-03, 6.14831031e-03, 9.33668701e-03,\n",
            "        1.41950640e-02, 2.15787793e-02, 3.28004324e-02, 4.99128174e-02,\n",
            "        7.59370268e-02, 1.15438750e-01, 1.75714023e-01, 2.67492701e-01,\n",
            "        4.06669243e-01, 6.18569561e-01, 9.41984196e-01, 1.43331816e+00,\n",
            "        2.18062391e+00, 3.31551350e+00, 5.02069565e+00, 7.12001100e+00,\n",
            "        2.08709682e+00, 5.53872009e-02, 3.23983661e-03, 4.37845398e-04,\n",
            "        1.10627973e-04, 4.45468525e-05, 2.50812928e-05, 1.70033885e-05,\n",
            "        1.96094884e-05, 2.38871088e-05, 2.69555124e-05, 3.30549538e-05,\n",
            "        4.28852928e-05, 5.78411796e-05, 8.04681461e-05, 1.14640155e-04,\n",
            "        1.66144674e-04, 2.43668302e-04, 3.61011587e-04, 5.38670883e-04,\n",
            "        8.07282984e-04, 1.21543053e-03, 1.83525061e-03, 2.77476942e-03,\n",
            "        4.20486086e-03, 6.38024019e-03, 9.68143674e-03, 1.47086480e-02,\n",
            "        2.23633931e-02, 3.39853165e-02, 5.16778644e-02, 7.86406297e-02,\n",
            "        1.19599694e-01, 1.81846534e-01, 2.76851816e-01, 4.21356076e-01,\n",
            "        6.40419029e-01, 9.74527441e-01, 1.48356649e+00, 2.25669481e+00,\n",
            "        3.42968347e+00, 5.17941432e+00, 7.00161984e+00, 1.32893580e+00,\n",
            "        4.05409233e-02, 2.88996895e-03, 4.52518253e-04, 1.27828857e-04,\n",
            "        5.59122444e-05, 3.31483516e-05, 2.67971353e-05, 2.61904762e-05,\n",
            "        2.72100391e-05, 3.17200751e-05, 3.96922266e-05, 5.18345041e-05,\n",
            "        7.04330002e-05],\n",
            "       [5.00000000e+00, 5.75408191e+00, 4.31106135e+00, 3.19600959e+00,\n",
            "        2.36791615e+00, 1.75424132e+00, 1.29958738e+00, 9.62060408e-01,\n",
            "        7.12844365e-01, 5.28838061e-01, 3.91588005e-01, 2.90084261e-01,\n",
            "        2.15155786e-01, 1.59328071e-01, 1.18010650e-01, 8.75382139e-02,\n",
            "        6.48423093e-02, 4.80210798e-02, 3.56198331e-02, 2.63947901e-02,\n",
            "        1.95478151e-02, 1.45008930e-02, 1.07525573e-02, 7.96694589e-03,\n",
            "        5.91373086e-03, 4.39191226e-03, 3.26038617e-03, 2.42670759e-03,\n",
            "        1.81068499e-03, 1.35347193e-03, 1.01766985e-03, 7.71538247e-04,\n",
            "        5.90867613e-04, 4.60747142e-04, 3.69315316e-04, 3.08287105e-04,\n",
            "        2.73301106e-04, 2.65155457e-04, 2.98449903e-04, 4.16259279e-04,\n",
            "        8.10411867e-04, 2.57860202e-03, 1.76854341e-02, 3.51777827e-01,\n",
            "        5.41870721e+00, 5.43320380e+00, 4.06239633e+00, 3.01164584e+00,\n",
            "        2.23135573e+00, 1.65308536e+00, 1.22456240e+00, 9.06592864e-01,\n",
            "        6.72007987e-01, 4.98271419e-01, 3.68906646e-01, 2.73408164e-01,\n",
            "        2.02728705e-01, 1.50086127e-01, 1.11222414e-01, 8.24987372e-02,\n",
            "        6.10833634e-02, 4.52593791e-02, 3.35775679e-02, 2.48690092e-02,\n",
            "        1.84272989e-02, 1.36762288e-02, 1.01374378e-02, 7.51682359e-03,\n",
            "        5.58552625e-03, 4.14970612e-03, 3.08606728e-03, 2.30340303e-03,\n",
            "        1.72386640e-03, 1.29585272e-03, 9.82925099e-04, 7.54353894e-04,\n",
            "        5.88986667e-04, 4.73145144e-04, 3.96585610e-04, 3.56439400e-04,\n",
            "        3.48689895e-04, 3.93565285e-04, 5.66584813e-04, 1.12955355e-03,\n",
            "        3.79473327e-03, 2.79970161e-02, 5.93027472e-01, 5.68411741e+00,\n",
            "        5.11115012e+00, 3.81377252e+00, 2.82721297e+00, 2.09472943e+00,\n",
            "        1.55188300e+00, 1.14954590e+00, 8.51649292e-01, 6.31025155e-01,\n",
            "        4.67132471e-01, 3.46231536e-01, 2.56803541e-01, 1.90236878e-01,\n",
            "        1.40950878e-01]])\n",
            " y_events: None\n"
          ]
        }
      ],
      "source": [
        "solu=solve_ivp(EDO,t_span,v1,t_eval=t,args=(a,b,c,d))\n",
        "print(solu)"
      ]
    },
    {
      "cell_type": "code",
      "execution_count": 104,
      "metadata": {
        "colab": {
          "base_uri": "https://localhost:8080/"
        },
        "id": "aDescz3vm-3Z",
        "outputId": "c3f2b1f3-86c2-4380-a0d5-d599c2015053"
      },
      "outputs": [
        {
          "output_type": "stream",
          "name": "stdout",
          "text": [
            "[3.00000000e+00 7.16547047e-02 3.44084349e-03 4.00613075e-04\n",
            " 9.07396030e-05 3.36691974e-05 1.81389746e-05 1.13157864e-05\n",
            " 1.19788897e-05 1.62052123e-05 1.80292797e-05 2.17699588e-05\n",
            " 2.80007047e-05 3.74987616e-05 5.18778905e-05 7.35998568e-05\n",
            " 1.06357447e-04 1.55652881e-04 2.30176462e-04 3.43064756e-04\n",
            " 5.13744435e-04 7.72746805e-04 1.16636050e-03 1.76317039e-03\n",
            " 2.67030022e-03 4.05129378e-03 6.14831031e-03 9.33668701e-03\n",
            " 1.41950640e-02 2.15787793e-02 3.28004324e-02 4.99128174e-02\n",
            " 7.59370268e-02 1.15438750e-01 1.75714023e-01 2.67492701e-01\n",
            " 4.06669243e-01 6.18569561e-01 9.41984196e-01 1.43331816e+00\n",
            " 2.18062391e+00 3.31551350e+00 5.02069565e+00 7.12001100e+00\n",
            " 2.08709682e+00 5.53872009e-02 3.23983661e-03 4.37845398e-04\n",
            " 1.10627973e-04 4.45468525e-05 2.50812928e-05 1.70033885e-05\n",
            " 1.96094884e-05 2.38871088e-05 2.69555124e-05 3.30549538e-05\n",
            " 4.28852928e-05 5.78411796e-05 8.04681461e-05 1.14640155e-04\n",
            " 1.66144674e-04 2.43668302e-04 3.61011587e-04 5.38670883e-04\n",
            " 8.07282984e-04 1.21543053e-03 1.83525061e-03 2.77476942e-03\n",
            " 4.20486086e-03 6.38024019e-03 9.68143674e-03 1.47086480e-02\n",
            " 2.23633931e-02 3.39853165e-02 5.16778644e-02 7.86406297e-02\n",
            " 1.19599694e-01 1.81846534e-01 2.76851816e-01 4.21356076e-01\n",
            " 6.40419029e-01 9.74527441e-01 1.48356649e+00 2.25669481e+00\n",
            " 3.42968347e+00 5.17941432e+00 7.00161984e+00 1.32893580e+00\n",
            " 4.05409233e-02 2.88996895e-03 4.52518253e-04 1.27828857e-04\n",
            " 5.59122444e-05 3.31483516e-05 2.67971353e-05 2.61904762e-05\n",
            " 2.72100391e-05 3.17200751e-05 3.96922266e-05 5.18345041e-05\n",
            " 7.04330002e-05]\n"
          ]
        }
      ],
      "source": [
        "x=solu.y[0, :]\n",
        "print(x)"
      ]
    },
    {
      "cell_type": "code",
      "execution_count": 105,
      "metadata": {
        "colab": {
          "base_uri": "https://localhost:8080/"
        },
        "id": "ox-eEbkgnGxc",
        "outputId": "e7602aba-b20c-43ce-8f75-b81b071059fb"
      },
      "outputs": [
        {
          "output_type": "stream",
          "name": "stdout",
          "text": [
            "[5.00000000e+00 5.75408191e+00 4.31106135e+00 3.19600959e+00\n",
            " 2.36791615e+00 1.75424132e+00 1.29958738e+00 9.62060408e-01\n",
            " 7.12844365e-01 5.28838061e-01 3.91588005e-01 2.90084261e-01\n",
            " 2.15155786e-01 1.59328071e-01 1.18010650e-01 8.75382139e-02\n",
            " 6.48423093e-02 4.80210798e-02 3.56198331e-02 2.63947901e-02\n",
            " 1.95478151e-02 1.45008930e-02 1.07525573e-02 7.96694589e-03\n",
            " 5.91373086e-03 4.39191226e-03 3.26038617e-03 2.42670759e-03\n",
            " 1.81068499e-03 1.35347193e-03 1.01766985e-03 7.71538247e-04\n",
            " 5.90867613e-04 4.60747142e-04 3.69315316e-04 3.08287105e-04\n",
            " 2.73301106e-04 2.65155457e-04 2.98449903e-04 4.16259279e-04\n",
            " 8.10411867e-04 2.57860202e-03 1.76854341e-02 3.51777827e-01\n",
            " 5.41870721e+00 5.43320380e+00 4.06239633e+00 3.01164584e+00\n",
            " 2.23135573e+00 1.65308536e+00 1.22456240e+00 9.06592864e-01\n",
            " 6.72007987e-01 4.98271419e-01 3.68906646e-01 2.73408164e-01\n",
            " 2.02728705e-01 1.50086127e-01 1.11222414e-01 8.24987372e-02\n",
            " 6.10833634e-02 4.52593791e-02 3.35775679e-02 2.48690092e-02\n",
            " 1.84272989e-02 1.36762288e-02 1.01374378e-02 7.51682359e-03\n",
            " 5.58552625e-03 4.14970612e-03 3.08606728e-03 2.30340303e-03\n",
            " 1.72386640e-03 1.29585272e-03 9.82925099e-04 7.54353894e-04\n",
            " 5.88986667e-04 4.73145144e-04 3.96585610e-04 3.56439400e-04\n",
            " 3.48689895e-04 3.93565285e-04 5.66584813e-04 1.12955355e-03\n",
            " 3.79473327e-03 2.79970161e-02 5.93027472e-01 5.68411741e+00\n",
            " 5.11115012e+00 3.81377252e+00 2.82721297e+00 2.09472943e+00\n",
            " 1.55188300e+00 1.14954590e+00 8.51649292e-01 6.31025155e-01\n",
            " 4.67132471e-01 3.46231536e-01 2.56803541e-01 1.90236878e-01\n",
            " 1.40950878e-01]\n"
          ]
        }
      ],
      "source": [
        "y=solu.y[1, :]\n",
        "print(y)"
      ]
    },
    {
      "cell_type": "code",
      "execution_count": 106,
      "metadata": {
        "colab": {
          "base_uri": "https://localhost:8080/",
          "height": 279
        },
        "id": "k_iMLk9jnLmV",
        "outputId": "a3da0d6c-e84b-47c6-9b04-ee2ec12ad65c"
      },
      "outputs": [
        {
          "output_type": "display_data",
          "data": {
            "text/plain": [
              "<Figure size 432x288 with 1 Axes>"
            ],
            "image/png": "[encoded data removed]"
          },
          "metadata": {
            "needs_background": "light"
          }
        }
      ],
      "source": [
        "plt.plot(t, x, '-b', label= \"Presas\")\n",
        "plt.plot(t, y, '-r', label= \"Depredador\")\n",
        "plt.xlabel('Tiempo')\n",
        "plt.ylabel('P/D')\n",
        "plt.show()"
      ]
    },
    {
      "cell_type": "code",
      "execution_count": 106,
      "metadata": {
        "id": "bKJkNXKFHrN-"
      },
      "outputs": [],
      "source": []
    }
  ],
  "metadata": {
    "colab": {
      "provenance": [],
      "collapsed_sections": []
    },
    "kernelspec": {
      "display_name": "Python 3",
      "name": "python3"
    },
    "language_info": {
      "name": "python"
    }
  },
  "nbformat": 4,
  "nbformat_minor": 0
}